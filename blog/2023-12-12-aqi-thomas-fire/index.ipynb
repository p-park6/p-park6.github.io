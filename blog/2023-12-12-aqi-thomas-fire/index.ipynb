{
  "cells": [
    {
      "cell_type": "raw",
      "id": "47222e98",
      "metadata": {},
      "source": [
        "---\n",
        "title: \"Analysis of the Air Quality caused by the Thomas Fire\"\n",
        "description: \"A personal analysis on air quality in Santa Barbara County and visualizing the burn area caused by the Thomas Fire\"\n",
        "author:\n",
        "  - name: Patty Park\n",
        "    url: https://p-park6.github.io/\n",
        "    #orcid\n",
        "    affiliation: MEDS\n",
        "    affiliation-url: https://bren.ucsb.edu/masters-programs/master-environmental-data-science\n",
        "date: 12-13-2023\n",
        "categories: \n",
        "  - Python\n",
        "  - MEDS\n",
        "  - Data Visualization\n",
        "bibliography: ../references.bib\n",
        "citation: \n",
        "  url: https://p-park6.github.io/blog/2023-12-22-aqi-thomas-fire/\n",
        "#image: images/image name\n",
        "#draft: true\n",
        "---"
      ]
    },
    {
      "cell_type": "markdown",
      "id": "a8829559",
      "metadata": {},
      "source": [
        "Link to associated github is [here](https://github.com/p-park6/aqi-false-color). More information such as analysis and notebook can be found here.\n",
        "\n",
        "![](aqi_in_santa_barbara.png)\n",
        "\n",
        "![](thomas_fire_perimeter_2017.png)\n",
        "\n",
        "# Overview\n",
        "\n",
        "In the latter half of 2017, multiple fires broke out in the state of California. This included the Thomas fire, a devastating fire that burned a total of 281,893 acres including hundreds of buildings as well as taking the lives of 2 people. \\[https://vcfd.org/news/vcfd-determines-cause-of-the-thomas-fire/\\] This fire also disrupted everyday life for Santa Barbara county residence. Schools were cancelled, and almost all shops were closed in Santa Barbara.\n",
        "\n",
        "This story hits close to home as my family was one of those that was impacted by the fires. My family runs a business on State Street, and with that being our main source of income, we had to stay open for the few people that would come visit downtown. Additionally after the fires, heavy rain came in the area and flooded the 101 freeway, connecting Ventura and Los Angeles county from the Santa Barbara county.\n",
        "\n",
        "With wanting to understand the impacts of air quality caused by the Thomas fires as well as my personal connection to the event, I'll be doing a deep dive into how the Thomas fire impacted the air quality in Santa Barbara County, as well as create a visual map of the area burned by the fire.\n",
        "\n",
        "## Datasets used in this analysis:\n",
        "\n",
        "1.  Air quality data\n",
        "\n",
        "-   [Air Quality Data for 2017](https://aqs.epa.gov/aqsweb/airdata/daily_aqi_by_county_2017.zip)\n",
        "-   [Air Quality Data for 2018](https://aqs.epa.gov/aqsweb/airdata/daily_aqi_by_county_2018.zip)\n",
        "-   Information on [AQI here](https://www.airnow.gov/aqi/aqi-basics/)\n",
        "\n",
        "2.  [Landsat Collection 2 Surface](Reflectance(https://www.usgs.gov/landsat-missions/landsat-collection-2-surface-reflectance)\n",
        "\n",
        "-   Additional information: -[Landsat Satellite homepage](https://www.usgs.gov/landsat-missions)\n",
        "\n",
        "\n",
        "## AQI Analysis\n",
        "\n",
        "#### Load Necessary Packages\n"
      ]
    },
    {
      "cell_type": "code",
      "execution_count": null,
      "id": "37181d04",
      "metadata": {
        "vscode": {
          "languageId": "python"
        }
      },
      "outputs": [],
      "source": [
        "import os\n",
        "import numpy as np\n",
        "import pandas as pd\n",
        "\n",
        "import geopandas as gpd\n",
        "import xarray as xr\n",
        "import rioxarray as rioxr\n",
        "import matplotlib.patches as mpatches\n",
        "from matplotlib.markers import MarkerStyle\n",
        "\n",
        "from shapely import Point\n",
        "from shapely import Polygon\n",
        "from shapely import box\n",
        "import matplotlib.pyplot as plt\n",
        "import matplotlib.lines as mlines"
      ]
    },
    {
      "cell_type": "markdown",
      "id": "5d1ee109",
      "metadata": {},
      "source": [
        "#### Import AQI Data\n",
        "\n",
        "AQI data was downloaded from the EPA website. Both 2017 and 2018 were download to see the air quality for both years. I'll first go ahead and read in the data and see what the two datasets look like.\n"
      ]
    },
    {
      "cell_type": "code",
      "execution_count": null,
      "id": "6484221e",
      "metadata": {
        "vscode": {
          "languageId": "python"
        }
      },
      "outputs": [],
      "source": [
        "# read in daily AQI 2017 zip file from url\n",
        "aqi_17 = pd.read_csv(\"https://aqs.epa.gov/aqsweb/airdata/daily_aqi_by_county_2017.zip\")\n",
        "\n",
        "# read in daily AQI 2018 zip file from url\n",
        "aqi_18 = pd.read_csv(\"https://aqs.epa.gov/aqsweb/airdata/daily_aqi_by_county_2018.zip\")\n",
        "\n",
        "print(aqi_17.head())\n",
        "print(aqi_18.head())"
      ]
    },
    {
      "cell_type": "markdown",
      "id": "aa432eb6",
      "metadata": {},
      "source": [
        "#### AQI Data Wrangling\n",
        "Now that I have a sense of what is contained in these datasets, I want to simplify them into one dataset. However, the data provided gives us information for the whole country. Since we are focusing on Santa Barbara County AQI, I'll go ahead and join them into one dataset using the `concat` function as well as subset for Santa Barbara county. Then I'll go ahead and filter for columns that only include the information I am interested in. I'll also go ahead and make sure that the date column is in datetime to make working with dates easier.\n"
      ]
    },
    {
      "cell_type": "code",
      "execution_count": null,
      "id": "227fb3d3",
      "metadata": {
        "vscode": {
          "languageId": "python"
        }
      },
      "outputs": [],
      "source": [
        "#join the two datasets together\n",
        "aqi = pd.concat([aqi_17, aqi_18])\n",
        "\n",
        "# change column names to lowercase and replace spaces with '_'\n",
        "aqi.columns = aqi.columns.str.lower().str.replace(' ','_')\n",
        "\n",
        "#filter for observations that are in Santa Barbara County\n",
        "aqi_sb = aqi[aqi['county_name'] == 'Santa Barbara']\n",
        "\n",
        "#remove not needed columns from the data frame\n",
        "aqi_sb = aqi_sb.drop(columns=['state_name','county_name','state_code','county_code'])\n",
        "\n",
        "# change date type to be in datetime object (can be ran only one time)\n",
        "aqi_sb.date = pd.to_datetime(aqi_sb.date)\n",
        "\n",
        "#change index to be set to date\n",
        "aqi_sb = aqi_sb.set_index('date')"
      ]
    },
    {
      "cell_type": "markdown",
      "id": "f2bb2adf",
      "metadata": {},
      "source": [
        "#### AQI data visualization\n",
        "\n",
        "Now we have a filtered dataset, I'll go ahead and use that to make a graph, visualizing the air quality over the two years. I'll also go ahead and calculate a 5 day rolling average to see if the air quality during that time was significant or not.\n"
      ]
    },
    {
      "cell_type": "code",
      "execution_count": null,
      "id": "3e5706fa",
      "metadata": {
        "vscode": {
          "languageId": "python"
        }
      },
      "outputs": [],
      "source": [
        "#create a new column that is the 5 day rolling average mean\n",
        "aqi_sb['five_day_average'] = aqi_sb.aqi.rolling('5D').mean()\n",
        "\n",
        "#Plot data\n",
        "aqi_sb.plot(y = ['aqi', 'five_day_average'], #plot both aqi and five_day_average column\n",
        "           title = 'AQI in Santa Barbara', #add title to graph\n",
        "           xlabel = 'Year', #add x label to graph\n",
        "           ylabel = 'Air Quality Index (AQI)', #add y label to graph\n",
        "           color = {'aqi': 'blue', #add blue to aqi line\n",
        "                    'five_day_average': 'orange' #add orange to five_day_average line\n",
        "                   },\n",
        "           )"
      ]
    },
    {
      "cell_type": "markdown",
      "id": "026eb9ea",
      "metadata": {},
      "source": [
        "![](aqi_in_santa_barbara.png)\n",
        "\n",
        "Takeaways:\n",
        "At around December 2017, There is a large spike in the AQI with both the daily and 5 day average. Surprisingly, there in an increase in AQI at January 2017. I assume there was a fire at the beginning of that year. However, looking at the 5 day rolling average, it seemed that the fire in 2018 (Thomas Fire) has a significant impact towards the AQI compared to last year's 5 day rolling average.\n",
        "\n",
        "## Thomas Fire area burn Analysis\n",
        "\n",
        "Same as before, let's go ahead and load in our data needed for this analysis. For this step, I'll also go ahead and do everything in one code chuck as it follows a similar pattern as seen above. You'll see that I did a step pertaining to squeezing and dropping a band. That is because this is a raster dataset. If the band is not dropped, you will not be able to map it.\n"
      ]
    },
    {
      "cell_type": "code",
      "execution_count": null,
      "id": "de6fb9e8",
      "metadata": {
        "vscode": {
          "languageId": "python"
        }
      },
      "outputs": [],
      "source": [
        "# Read in bands dataset\n",
        "#create pathway\n",
        "ca_bands_fp = os.path.join(os.getcwd(),'data','landsat8-2018-01-26-sb-simplified.nc')\n",
        "#read data using pathway\n",
        "ca_fires_bands_2017 = rioxr.open_rasterio(ca_bands_fp)\n",
        "\n",
        "#get rid of band in ca_fires_band_2017\n",
        "# original dimensions and coordinates\n",
        "print('original dimensions: ', ca_fires_bands_2017.dims,'\\n')\n",
        "\n",
        "# remove length 1 dimension (band)\n",
        "ca_fires_bands_2017 = ca_fires_bands_2017.squeeze()\n",
        "print('removed band from dimensions: ', ca_fires_bands_2017.dims,'\\n')\n",
        "\n",
        "# remove coordinates associated to band\n",
        "ca_fires_bands_2017 = ca_fires_bands_2017.drop('band')\n",
        "print('new dimensions: ', ca_fires_bands_2017.dims)\n",
        "\n",
        "                     \n",
        "#change column names:\n",
        "#make columns lower case\n",
        "ca_fires_perimeter_2017.columns = ca_fires_perimeter_2017.columns.str.lower()\n",
        "\n",
        "#change crs to the bands raster data\n",
        "ca_fires_perimeter_2017 = ca_fires_perimeter_2017.to_crs(ca_fires_bands_2017.rio.crs)\n",
        "\n",
        "#create thomas fire perimeter\n",
        "thomas_perimeter = ca_fires_perimeter_2017[ca_fires_perimeter_2017['fire_name']=='THOMAS']\n",
        "\n",
        "\n",
        "#create map\n",
        "#plot an empty plot\n",
        "fig, ax = plt.subplots(figsize = (8,6))\n",
        "\n",
        "\n",
        "#plot CA fire bands map as the base\n",
        "ca_fires_bands_2017[['swir22', #subset for the three wanted bands\n",
        "                     'nir08', \n",
        "                     'red']].to_array().plot.imshow(ax = ax,\n",
        "                                                    robust = True)\n",
        "\n",
        "#plot thomas fire perimeter over base map\n",
        "thomas_perimeter.plot(ax = ax, edgecolor = \"red\", color = 'none') #plot thomas_perimeter\n",
        "thomas_perimeter_patches = mpatches.Patch( color = \"red\", #create label for legend and change color\n",
        "                                    label = \"Thomas Fire Perimeter\") #set label\n",
        "\n",
        "#set title for map\n",
        "ax.set_title('Thomas Fire Perimeter in 2017',\n",
        "fontsize=20) #change font size\n",
        "\n",
        "#add legend onto map\n",
        "ax.legend(handles = [thomas_perimeter_patches], frameon=False, loc='upper left', bbox_to_anchor = (1, 1))"
      ]
    },
    {
      "cell_type": "markdown",
      "id": "1c2e2d5f",
      "metadata": {},
      "source": [
        "![](thomas_fire_perimeter_2017.png)\n",
        "\n",
        "Takeaways:\n",
        "Here we can see the amount of area that was burned by the Thomas fire. We can notice that there were some burnt area on the left, but none nearly as big as the Thomas Fire burn. This large area of burn would almost make sense why a mudslide followed in its tracks. The open space caused by the fire made it more possible for the surface soil to be washed away as there were no plants to keep the soil intacted.\n"
      ]
    }
  ],
  "metadata": {
    "kernelspec": {
      "display_name": "Python (eds217_2023)",
      "language": "python",
      "name": "eds217_2023"
    }
  },
  "nbformat": 4,
  "nbformat_minor": 5
}
